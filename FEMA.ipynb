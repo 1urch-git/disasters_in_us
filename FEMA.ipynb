{
 "cells": [
  {
   "cell_type": "code",
   "execution_count": 30,
   "metadata": {},
   "outputs": [
    {
     "name": "stdout",
     "output_type": "stream",
     "text": [
      "disasterNumber\n",
      "37        NaN\n",
      "87        NaN\n",
      "56        NaN\n",
      "28        NaN\n",
      "130       NaN\n",
      "179       NaN\n",
      "107       NaN\n",
      "234     False\n",
      "234     False\n",
      "234     False\n",
      "234     False\n",
      "234     False\n",
      "234     False\n",
      "234     False\n",
      "234     False\n",
      "234     False\n",
      "234     False\n",
      "234     False\n",
      "234     False\n",
      "234     False\n",
      "234     False\n",
      "234     False\n",
      "234     False\n",
      "234     False\n",
      "234     False\n",
      "234     False\n",
      "234     False\n",
      "234     False\n",
      "394     False\n",
      "394     False\n",
      "        ...  \n",
      "4285    False\n",
      "4285    False\n",
      "4285    False\n",
      "4285    False\n",
      "4285    False\n",
      "4285    False\n",
      "4285    False\n",
      "4285     True\n",
      "4285    False\n",
      "4285    False\n",
      "4285    False\n",
      "4285    False\n",
      "4285    False\n",
      "4285    False\n",
      "4285    False\n",
      "4285    False\n",
      "4285    False\n",
      "4285    False\n",
      "4285    False\n",
      "4285    False\n",
      "4285    False\n",
      "4285    False\n",
      "4285    False\n",
      "5161    False\n",
      "5164    False\n",
      "5161    False\n",
      "5161    False\n",
      "4364      NaN\n",
      "4364    False\n",
      "4364    False\n",
      "Name: declaredCountyArea, Length: 1319, dtype: object\n"
     ]
    }
   ],
   "source": [
    "import pandas as pd\n",
    "\n",
    "\n",
    "dis_csv = pd.read_csv(\"DisasterDeclarationsSummaries.csv\", index_col= \"disasterNumber\")\n",
    "disaster = pd.DataFrame(dis_csv)\n",
    "\n",
    "NCdf = disaster[disaster['state']==\"NC\"]\n",
    "#Forsyth = NCdf['declaredCountyArea'].str.contains(\"A\")\n",
    "print(NCdf)"
   ]
  },
  {
   "cell_type": "code",
   "execution_count": null,
   "metadata": {},
   "outputs": [],
   "source": []
  }
 ],
 "metadata": {
  "kernelspec": {
   "display_name": "Python 3",
   "language": "python",
   "name": "python3"
  },
  "language_info": {
   "codemirror_mode": {
    "name": "ipython",
    "version": 3
   },
   "file_extension": ".py",
   "mimetype": "text/x-python",
   "name": "python",
   "nbconvert_exporter": "python",
   "pygments_lexer": "ipython3",
   "version": "3.6.5"
  }
 },
 "nbformat": 4,
 "nbformat_minor": 2
}
